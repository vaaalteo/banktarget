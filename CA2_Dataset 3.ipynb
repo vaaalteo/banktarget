{
 "cells": [
  {
   "cell_type": "code",
   "execution_count": 1,
   "id": "funny-avatar",
   "metadata": {},
   "outputs": [],
   "source": [
    "#importing libaries to use\n",
    "import pandas as pd\n",
    "import numpy as np\n",
    "import seaborn as sns\n",
    "import matplotlib.pyplot as plt\n"
   ]
  },
  {
   "cell_type": "code",
   "execution_count": 2,
   "id": "unnecessary-future",
   "metadata": {
    "scrolled": true
   },
   "outputs": [
    {
     "name": "stdout",
     "output_type": "stream",
     "text": [
      "This is the shape of the dataset\n",
      "(66, 3)\n",
      "\n",
      "This is the index of the dataset\n",
      "RangeIndex(start=0, stop=66, step=1)\n",
      "\n",
      "These are the columns in the dataset\n",
      "Index(['year', 'sex', 'average_monthly_earnings'], dtype='object')\n",
      "\n",
      "The total number of non-NA values in this dataset is:\n",
      "year                        66\n",
      "sex                         66\n",
      "average_monthly_earnings    66\n",
      "dtype: int64\n",
      "\n",
      "A summary of this dataset is shown below:\n",
      "<class 'pandas.core.frame.DataFrame'>\n",
      "RangeIndex: 66 entries, 0 to 65\n",
      "Data columns (total 3 columns):\n",
      " #   Column                    Non-Null Count  Dtype \n",
      "---  ------                    --------------  ----- \n",
      " 0   year                      66 non-null     int64 \n",
      " 1   sex                       66 non-null     object\n",
      " 2   average_monthly_earnings  66 non-null     int64 \n",
      "dtypes: int64(2), object(1)\n",
      "memory usage: 1.7+ KB\n",
      "None\n",
      "\n",
      "A descriptive statistical summary of this dataset is shown below:\n",
      "              year  average_monthly_earnings\n",
      "count    66.000000                 66.000000\n",
      "mean   2008.500000               4000.712121\n",
      "std       6.392905                998.723120\n",
      "min    1998.000000               2256.000000\n",
      "25%    2003.000000               3215.250000\n",
      "50%    2008.500000               3890.500000\n",
      "75%    2014.000000               4691.250000\n",
      "max    2019.000000               6159.000000\n"
     ]
    }
   ],
   "source": [
    "#Read BankChurners file\n",
    "genderdata = pd.read_csv('average-mean-monthly-nominal-earnings-per-employee-by-sex-annual/average-mean-monthly-earnings-per-employee-by-sex-annual.csv')\n",
    "\n",
    "#load the bankdata into dataframe\n",
    "genderdf = pd.DataFrame(genderdata)\n",
    "#print(bankdf)\n",
    "\n",
    "print(\"This is the shape of the dataset\")\n",
    "print(genderdf.shape)\n",
    "print()\n",
    "print(\"This is the index of the dataset\")\n",
    "print(genderdf.index)\n",
    "print()\n",
    "print(\"These are the columns in the dataset\")\n",
    "print(genderdf.columns)\n",
    "print()\n",
    "print(\"The total number of non-NA values in this dataset is:\")\n",
    "print(genderdf.count())\n",
    "print()\n",
    "print(\"A summary of this dataset is shown below:\")\n",
    "print(genderdf.info())\n",
    "print()\n",
    "print(\"A descriptive statistical summary of this dataset is shown below:\")\n",
    "\n",
    "print(genderdf.describe())"
   ]
  },
  {
   "cell_type": "code",
   "execution_count": 3,
   "id": "manufactured-persian",
   "metadata": {},
   "outputs": [],
   "source": [
    "#selecting data based on gender and their corresponding average monthly earnings data over the years\n",
    "fdata = genderdf[genderdf.sex == \"female\"]\n",
    "mdata = genderdf[genderdf.sex == \"male\"]\n",
    "\n",
    "#subsetting the column 'average_monthly_earnings' from female only rows\n",
    "fearn = fdata['average_monthly_earnings']\n",
    "#subsetting the column 'average_monthly_earnings' from male only rows\n",
    "mearn =mdata['average_monthly_earnings']\n",
    "\n",
    "#print(fearn)\n",
    "#print(fdata)\n",
    "#print(mdata)"
   ]
  },
  {
   "cell_type": "code",
   "execution_count": 5,
   "id": "nasty-parade",
   "metadata": {},
   "outputs": [
    {
     "data": {
      "image/png": "[encoded data removed]",
      "text/plain": [
       "<Figure size 432x288 with 1 Axes>"
      ]
     },
     "metadata": {},
     "output_type": "display_data"
    }
   ],
   "source": [
    "#plotting 2 line graphs (female and male average monthly earnings over the years) using matplotlib\n",
    "fig,ax = plt.subplots()\n",
    "\n",
    "#setting graph background color\n",
    "fig.set_facecolor('#afeeee')\n",
    "\n",
    "#labels and title of the graphs\n",
    "plt.title('Average Monthly Earnings by Gender')\n",
    "plt.xlabel('Years')\n",
    "plt.ylabel('Average Montlyh Earnings (S$)')\n",
    "\n",
    "#first line graph of female data (year on x axis and monthly earnings on y axis), represented by red dotted line\n",
    "ax.plot(fdata['year'],fearn, 'r--', label='female')\n",
    "\n",
    "#second line graph of male data (year on x axis and monthly earnings on y axis), represented by blue diamond line\n",
    "ax.plot(mdata['year'],mearn, 'bd',label ='male')\n",
    "\n",
    "#indicating the legend\n",
    "legend = ax.legend(loc='upper left', shadow = True)\n",
    "plt.show()"
   ]
  }
 ],
 "metadata": {
  "kernelspec": {
   "display_name": "Python 3",
   "language": "python",
   "name": "python3"
  },
  "language_info": {
   "codemirror_mode": {
    "name": "ipython",
    "version": 3
   },
   "file_extension": ".py",
   "mimetype": "text/x-python",
   "name": "python",
   "nbconvert_exporter": "python",
   "pygments_lexer": "ipython3",
   "version": "3.8.5"
  }
 },
 "nbformat": 4,
 "nbformat_minor": 5
}
